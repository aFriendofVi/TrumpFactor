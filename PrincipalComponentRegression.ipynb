{
 "cells": [
  {
   "cell_type": "markdown",
   "metadata": {},
   "source": [
    "## 1. Multistock Model"
   ]
  },
  {
   "cell_type": "markdown",
   "metadata": {},
   "source": [
    "$$ S_t^{(k)} = S_0^{(k)} \\cdot exp(\\mu^{(k)} t + \\sigma^{(k)} B_t^{(k)}) $$"
   ]
  },
  {
   "cell_type": "markdown",
   "metadata": {},
   "source": [
    "__Assuming $cov(B_{t}^i,B_{s}^j) = min\\{t,s\\} \\cdot \\rho_{i,j}$ __\n",
    "\n",
    "__And: __\n",
    "$$\\sigma_k B_t^{(k)} = \\sum_{i}^{k} \\sigma_{k,i} W_t^{(i)}$$\n",
    "$$\\sigma^2_k = \\sum_{j}^{min\\{k,j\\}} \\sigma^2_{k,j}$$\n",
    "\n",
    "__Or in matrix form: __\n",
    "$$\\begin{bmatrix}\n",
    "\\sigma_1 B^{(1)}\\\\\n",
    "\\sigma_2 B^{(2)}\\\\\n",
    "\\sigma_3 B^{(3)}\\\\\n",
    "...\\\\\n",
    "\\sigma_n B^{(n)}\n",
    "\\end{bmatrix}\n",
    "{=}\n",
    "\\begin{bmatrix}\n",
    "\\sigma_{11}  & 0 & 0 &...&0\\\\\n",
    "\\sigma_{21}  & \\sigma_{22} & 0 &...&0\\\\\n",
    "\\sigma_{31} & \\sigma_{32 }&\\sigma_{33} &... &0\\\\\n",
    "...&...&...&...&...\\\\\n",
    "\\sigma_{n1} &\\sigma_{n2} &\\sigma_{n3} &...&\\sigma_{nn}\n",
    "\\end{bmatrix}\n",
    "\\begin{bmatrix}\n",
    "W^{(1)}\\\\\n",
    "W^{(2)}\\\\\n",
    "W^{(3)}\\\\\n",
    "...\\\\\n",
    "W^{(n)}\n",
    "\\end{bmatrix}\n",
    "$$"
   ]
  },
  {
   "cell_type": "markdown",
   "metadata": {},
   "source": [
    "Denote $\\{\\sigma_{i,j}\\}$ as matrix $\\Sigma$, $\\{\\sigma_{i}\\}$ as the vector $\\sigma$. The last equation can be written as:\n",
    "$$diag[\\sigma] B_t = \\Sigma W_t$$\n",
    "\n",
    "For simplicity, subscript t is ommited in this homework.\n",
    "\n",
    "Since cov(W) is just $ t I$:\n",
    "$$ cov(\\Sigma W) = \\Sigma ( tI) \\Sigma^T = t \\cdot \\Sigma \\Sigma^T $$\n",
    "\n",
    "From historical data, $cov(diag[\\sigma] B)$ is directly observable, a.k.a the covariance matrix of stocks log returns.\n",
    "Scale the covariance matrix by $t$, and decompose it into two matrix: $\\Sigma, \\Sigma^T$.\n",
    "Cholesky decomposition is unique, so: \n",
    "\n",
    "\\begin{eqnarray}\n",
    "\\Sigma &=& CholeskyDecompose(cov(diag[\\sigma] B) / t)\n",
    "\\end{eqnarray}"
   ]
  },
  {
   "cell_type": "code",
   "execution_count": 1,
   "metadata": {
    "collapsed": true
   },
   "outputs": [],
   "source": [
    "import numpy as np #Handle math objects like vectors and matrixs\n",
    "import scipy as sp\n",
    "from scipy.stats import norm # Normal cdf is used\n",
    "import pandas as pd #Contains data from yahoo\n",
    "import matplotlib.pyplot as plt # Seeing is believing! --Thrall\n",
    "from datetime import datetime # Very usefull when you need to operate on date\n",
    "from datetime import timedelta # Very usefull when you need to operate on date\n",
    "from yahoo_finance import Share # API from Yahoo to fetch data\n",
    "%matplotlib inline\n",
    "float_formatter = lambda x: \"%.3f\" % x if x >=0 else \"%.2f\" % x\n",
    "np.set_printoptions(formatter={'float_kind':float_formatter})\n",
    "pd.options.display.float_format = '{:20,.3f}'.format"
   ]
  },
  {
   "cell_type": "markdown",
   "metadata": {},
   "source": [
    "* Choose the stocks"
   ]
  },
  {
   "cell_type": "code",
   "execution_count": 2,
   "metadata": {
    "collapsed": true
   },
   "outputs": [],
   "source": [
    "universe = ['SPY','GOOG','AAPL','AMZN','MSFT','IBM','M','MNST','PNC','ROST','COO']"
   ]
  },
  {
   "cell_type": "code",
   "execution_count": 3,
   "metadata": {
    "collapsed": false
   },
   "outputs": [],
   "source": [
    "n = len(universe)"
   ]
  },
  {
   "cell_type": "code",
   "execution_count": 14,
   "metadata": {
    "collapsed": true
   },
   "outputs": [],
   "source": [
    "i = datetime.now()\n",
    "j = i - timedelta(days=252*2)\n",
    "currentDate = \"%s-%s-%s\"%(i.year,i.month,i.day-1)\n",
    "startDate = \"%s-%s-%s\"%(j.year,j.month,j.day)"
   ]
  },
  {
   "cell_type": "markdown",
   "metadata": {},
   "source": [
    "* M is the dataframe that stores log returns of all the stocks."
   ]
  },
  {
   "cell_type": "code",
   "execution_count": 16,
   "metadata": {
    "collapsed": false
   },
   "outputs": [],
   "source": [
    "count = 0\n",
    "for symbol in universe:\n",
    "    equity = Share(symbol)\n",
    "    df = pd.DataFrame(equity.get_historical(startDate,currentDate))\n",
    "    df.index = df.Date\n",
    "    df.drop('Date',1,inplace = True)\n",
    "    df.sort_index(inplace = True) # ,ascending = False\n",
    "    df['Adj_Close'] = pd.to_numeric(df['Adj_Close'])\n",
    "    label = symbol#+'_logReturn'\n",
    "    df[label] = np.log(1+df.Adj_Close.diff(1)/df.Adj_Close)\n",
    "#     df.fillna(0,inplace = True)\n",
    "    df.dropna(inplace = True)\n",
    "    \n",
    "    if count==0:\n",
    "        M = df[[label]].copy()\n",
    "    else:\n",
    "        M = M.join(df[[label]])\n",
    "    \n",
    "    count += 1\n"
   ]
  },
  {
   "cell_type": "markdown",
   "metadata": {},
   "source": [
    "* Solve the covariance matrix of the stocks ($C=cov(diag[\\sigma] B)/t$)"
   ]
  },
  {
   "cell_type": "code",
   "execution_count": 17,
   "metadata": {
    "collapsed": false
   },
   "outputs": [
    {
     "name": "stdout",
     "output_type": "stream",
     "text": [
      "[[0.035 0.019 0.031 0.027 0.013 0.008 0.018 0.014 0.013 0.013]\n",
      " [0.019 0.049 0.022 0.022 0.013 0.007 0.012 0.017 0.012 0.015]\n",
      " [0.031 0.022 0.073 0.028 0.013 -0.00 0.030 0.015 0.009 0.014]\n",
      " [0.027 0.022 0.028 0.044 0.017 0.011 0.019 0.019 0.014 0.014]\n",
      " [0.013 0.013 0.013 0.017 0.034 0.015 0.008 0.019 0.008 0.006]\n",
      " [0.008 0.007 -0.00 0.011 0.015 0.152 0.009 0.024 0.030 0.012]\n",
      " [0.018 0.012 0.030 0.019 0.008 0.009 0.071 0.006 0.015 0.010]\n",
      " [0.014 0.017 0.015 0.019 0.019 0.024 0.006 0.049 0.013 0.008]\n",
      " [0.013 0.012 0.009 0.014 0.008 0.030 0.015 0.013 0.041 0.010]\n",
      " [0.013 0.015 0.014 0.014 0.006 0.012 0.010 0.008 0.010 0.047]]\n"
     ]
    }
   ],
   "source": [
    "dt = 1/252\n",
    "set1 = [x for x in universe if x != 'SPY']\n",
    "covMat = np.cov(M[set1].values.T)\n",
    "# covMat = np.cov(M.values.T)\n",
    "C = covMat/dt\n",
    "print(C)"
   ]
  },
  {
   "cell_type": "code",
   "execution_count": 19,
   "metadata": {
    "collapsed": false
   },
   "outputs": [
    {
     "data": {
      "text/plain": [
       "<matplotlib.colorbar.Colorbar at 0x7f42f812ef60>"
      ]
     },
     "execution_count": 19,
     "metadata": {},
     "output_type": "execute_result"
    },
    {
     "data": {
      "image/png": "[encoded data removed]",
      "text/plain": [
       "<matplotlib.figure.Figure at 0x7f42f8254748>"
      ]
     },
     "metadata": {},
     "output_type": "display_data"
    }
   ],
   "source": [
    "plt.imshow(C)\n",
    "plt.colorbar() "
   ]
  },
  {
   "cell_type": "code",
   "execution_count": 20,
   "metadata": {
    "collapsed": false
   },
   "outputs": [
    {
     "name": "stdout",
     "output_type": "stream",
     "text": [
      "[[1.000 0.469 0.603 0.695 0.369 0.105 0.359 0.339 0.331 0.322]\n",
      " [0.469 1.000 0.374 0.485 0.325 0.081 0.206 0.348 0.270 0.307]\n",
      " [0.603 0.374 1.000 0.494 0.252 -0.04 0.416 0.250 0.168 0.230]\n",
      " [0.695 0.485 0.494 1.000 0.446 0.134 0.333 0.419 0.331 0.313]\n",
      " [0.369 0.325 0.252 0.446 1.000 0.212 0.162 0.459 0.216 0.141]\n",
      " [0.105 0.081 -0.04 0.134 0.212 1.000 0.089 0.272 0.378 0.138]\n",
      " [0.359 0.206 0.416 0.333 0.162 0.089 1.000 0.103 0.273 0.174]\n",
      " [0.339 0.348 0.250 0.419 0.459 0.272 0.103 1.000 0.289 0.161]\n",
      " [0.331 0.270 0.168 0.331 0.216 0.378 0.273 0.289 1.000 0.228]\n",
      " [0.322 0.307 0.230 0.313 0.141 0.138 0.174 0.161 0.228 1.000]]\n"
     ]
    }
   ],
   "source": [
    "dt = 1/252\n",
    "corrMat = np.corrcoef(M[set1].values.T)\n",
    "print(corrMat)"
   ]
  },
  {
   "cell_type": "code",
   "execution_count": 21,
   "metadata": {
    "collapsed": false,
    "scrolled": true
   },
   "outputs": [
    {
     "data": {
      "text/plain": [
       "<matplotlib.colorbar.Colorbar at 0x7f42f80b35c0>"
      ]
     },
     "execution_count": 21,
     "metadata": {},
     "output_type": "execute_result"
    },
    {
     "data": {
      "image/png": "[encoded data removed]",
      "text/plain": [
       "<matplotlib.figure.Figure at 0x7f42f80c3400>"
      ]
     },
     "metadata": {},
     "output_type": "display_data"
    }
   ],
   "source": [
    "plt.imshow(corrMat)\n",
    "plt.colorbar()"
   ]
  },
  {
   "cell_type": "markdown",
   "metadata": {},
   "source": [
    "* Perform Cholesky on C to get $\\Sigma$\n",
    "\n",
    "__$\\Sigma = CholeskyDecompose(C)$__"
   ]
  },
  {
   "cell_type": "code",
   "execution_count": 22,
   "metadata": {
    "collapsed": false,
    "scrolled": true
   },
   "outputs": [
    {
     "name": "stdout",
     "output_type": "stream",
     "text": [
      "[[0.187 0.000 0.000 0.000 0.000 0.000 0.000 0.000 0.000 0.000]\n",
      " [0.104 0.195 0.000 0.000 0.000 0.000 0.000 0.000 0.000 0.000]\n",
      " [0.163 0.028 0.214 0.000 0.000 0.000 0.000 0.000 0.000 0.000]\n",
      " [0.145 0.037 0.015 0.144 0.000 0.000 0.000 0.000 0.000 0.000]\n",
      " [0.068 0.032 0.003 0.042 0.164 0.000 0.000 0.000 0.000 0.000]\n",
      " [0.041 0.014 -0.05 0.036 0.065 0.376 0.000 0.000 0.000 0.000]\n",
      " [0.096 0.011 0.066 0.022 -0.00 0.020 0.238 0.000 0.000 0.000]\n",
      " [0.075 0.047 0.006 0.046 0.062 0.038 -0.02 0.183 0.000 0.000]\n",
      " [0.067 0.026 -0.01 0.024 0.010 0.065 0.029 0.016 0.172 0.000]\n",
      " [0.070 0.039 0.005 0.018 -0.01 0.022 0.008 -0.00 0.014 0.200]]\n"
     ]
    }
   ],
   "source": [
    "Sigma = np.linalg.cholesky(C)\n",
    "print(Sigma)"
   ]
  },
  {
   "cell_type": "markdown",
   "metadata": {},
   "source": [
    "* Recover standard deviation of log returns of stocks $\\sigma_k$ from formula:"
   ]
  },
  {
   "cell_type": "markdown",
   "metadata": {},
   "source": [
    "$$\\sigma^2_k = \\sum_{j}^{min\\{k,j\\}} \\sigma^2_{k,j}$$"
   ]
  },
  {
   "cell_type": "code",
   "execution_count": 121,
   "metadata": {
    "collapsed": false,
    "scrolled": true
   },
   "outputs": [
    {
     "name": "stdout",
     "output_type": "stream",
     "text": [
      "[[28.523 0.000 0.000 0.000 0.000 0.000 0.000 0.000 0.000 0.000]\n",
      " [0.000 20.443 0.000 0.000 0.000 0.000 0.000 0.000 0.000 0.000]\n",
      " [0.000 0.000 13.648 0.000 0.000 0.000 0.000 0.000 0.000 0.000]\n",
      " [0.000 0.000 0.000 22.984 0.000 0.000 0.000 0.000 0.000 0.000]\n",
      " [0.000 0.000 0.000 0.000 29.212 0.000 0.000 0.000 0.000 0.000]\n",
      " [0.000 0.000 0.000 0.000 0.000 6.595 0.000 0.000 0.000 0.000]\n",
      " [0.000 0.000 0.000 0.000 0.000 0.000 14.081 0.000 0.000 0.000]\n",
      " [0.000 0.000 0.000 0.000 0.000 0.000 0.000 20.377 0.000 0.000]\n",
      " [0.000 0.000 0.000 0.000 0.000 0.000 0.000 0.000 24.463 0.000]\n",
      " [0.000 0.000 0.000 0.000 0.000 0.000 0.000 0.000 0.000 21.054]]\n"
     ]
    }
   ],
   "source": [
    "sigma = np.sum(Sigma**2,axis = 1)**(0.5)\n",
    "print(np.linalg.inv(np.diag(sigma**2)))"
   ]
  },
  {
   "cell_type": "markdown",
   "metadata": {},
   "source": [
    "$$ R = diag[\\sigma]^{-1}\\Sigma $$\n",
    "$$ d = det(R)^{1/n}$$"
   ]
  },
  {
   "cell_type": "code",
   "execution_count": 61,
   "metadata": {
    "collapsed": false
   },
   "outputs": [
    {
     "name": "stdout",
     "output_type": "stream",
     "text": [
      "The diversity is  0.877432831007\n"
     ]
    }
   ],
   "source": [
    "R = np.dot(np.linalg.inv(np.diag(sigma)),Sigma)\n",
    "d = np.linalg.det(R)**(1/n)\n",
    "print('The diversity is ', d)"
   ]
  },
  {
   "cell_type": "markdown",
   "metadata": {},
   "source": [
    "Another way to decompose the covariance matrix is PCA(SVD)\n",
    "\n",
    "$$C = U \\Lambda U^T$$\n",
    "\n",
    "We will now show that even though $U \\Lambda U^T =  \\Sigma \\Sigma^T$, $U \\Lambda^{\\frac{1}{2}} \\neq \\Sigma$"
   ]
  },
  {
   "cell_type": "code",
   "execution_count": 25,
   "metadata": {
    "collapsed": true
   },
   "outputs": [],
   "source": [
    "u,s,v = np.linalg.svd(C)"
   ]
  },
  {
   "cell_type": "markdown",
   "metadata": {},
   "source": [
    "Show eigen values"
   ]
  },
  {
   "cell_type": "code",
   "execution_count": 26,
   "metadata": {
    "collapsed": false
   },
   "outputs": [
    {
     "name": "stdout",
     "output_type": "stream",
     "text": [
      "[0.203 0.142 0.061 0.043 0.038 0.029 0.027 0.024 0.019 0.011]\n"
     ]
    }
   ],
   "source": [
    "print(s)"
   ]
  },
  {
   "cell_type": "code",
   "execution_count": 27,
   "metadata": {
    "collapsed": false
   },
   "outputs": [
    {
     "name": "stdout",
     "output_type": "stream",
     "text": [
      "[[0.035 0.019 0.031 0.027 0.013 0.008 0.018 0.014 0.013 0.013]\n",
      " [0.019 0.049 0.022 0.022 0.013 0.007 0.012 0.017 0.012 0.015]\n",
      " [0.031 0.022 0.073 0.028 0.013 -0.00 0.030 0.015 0.009 0.014]\n",
      " [0.027 0.022 0.028 0.044 0.017 0.011 0.019 0.019 0.014 0.014]\n",
      " [0.013 0.013 0.013 0.017 0.034 0.015 0.008 0.019 0.008 0.006]\n",
      " [0.008 0.007 -0.00 0.011 0.015 0.152 0.009 0.024 0.030 0.012]\n",
      " [0.018 0.012 0.030 0.019 0.008 0.009 0.071 0.006 0.015 0.010]\n",
      " [0.014 0.017 0.015 0.019 0.019 0.024 0.006 0.049 0.013 0.008]\n",
      " [0.013 0.012 0.009 0.014 0.008 0.030 0.015 0.013 0.041 0.010]\n",
      " [0.013 0.015 0.014 0.014 0.006 0.012 0.010 0.008 0.010 0.047]]\n"
     ]
    }
   ],
   "source": [
    "ul = np.dot(u,np.diag(s**0.5))\n",
    "print(np.dot(ul,ul.T))"
   ]
  },
  {
   "cell_type": "markdown",
   "metadata": {},
   "source": [
    "* In the cell above we can see $U \\Lambda^{\\frac{1}{2}} (U\\Lambda^{\\frac{1}{2}})^T= C$.\n",
    "\n",
    "* Next we compare $U \\Lambda^{\\frac{1}{2}}$ and $\\Sigma$ :"
   ]
  },
  {
   "cell_type": "code",
   "execution_count": 28,
   "metadata": {
    "collapsed": false
   },
   "outputs": [
    {
     "name": "stdout",
     "output_type": "stream",
     "text": [
      "[[-0.12 0.086 0.018 -0.00 0.023 -0.02 0.022 0.051 -0.03 -0.08]\n",
      " [-0.12 0.078 0.076 -0.04 -0.03 -0.10 -0.09 -0.04 0.007 0.001]\n",
      " [-0.15 0.167 -0.03 0.046 0.132 0.003 0.022 -0.04 0.030 0.017]\n",
      " [-0.14 0.084 0.042 0.005 -0.01 -0.01 0.013 0.086 -0.06 0.058]\n",
      " [-0.10 0.022 0.060 0.050 -0.04 0.042 -0.02 0.064 0.101 -0.00]\n",
      " [-0.26 -0.29 -0.03 0.007 0.046 -0.00 -0.02 0.004 -0.01 0.001]\n",
      " [-0.13 0.096 -0.19 0.011 -0.08 0.025 -0.04 -0.01 -0.01 -0.00]\n",
      " [-0.13 0.011 0.104 0.070 -0.06 0.074 0.015 -0.08 -0.04 -0.01]\n",
      " [-0.12 -0.02 -0.01 -0.03 -0.07 -0.07 0.120 -0.02 0.035 0.006]\n",
      " [-0.09 0.036 0.023 -0.17 0.013 0.078 0.003 -0.01 0.011 0.002]]\n"
     ]
    }
   ],
   "source": [
    "print(ul)"
   ]
  },
  {
   "cell_type": "code",
   "execution_count": 29,
   "metadata": {
    "collapsed": false
   },
   "outputs": [
    {
     "name": "stdout",
     "output_type": "stream",
     "text": [
      "[[0.187 0.000 0.000 0.000 0.000 0.000 0.000 0.000 0.000 0.000]\n",
      " [0.104 0.195 0.000 0.000 0.000 0.000 0.000 0.000 0.000 0.000]\n",
      " [0.163 0.028 0.214 0.000 0.000 0.000 0.000 0.000 0.000 0.000]\n",
      " [0.145 0.037 0.015 0.144 0.000 0.000 0.000 0.000 0.000 0.000]\n",
      " [0.068 0.032 0.003 0.042 0.164 0.000 0.000 0.000 0.000 0.000]\n",
      " [0.041 0.014 -0.05 0.036 0.065 0.376 0.000 0.000 0.000 0.000]\n",
      " [0.096 0.011 0.066 0.022 -0.00 0.020 0.238 0.000 0.000 0.000]\n",
      " [0.075 0.047 0.006 0.046 0.062 0.038 -0.02 0.183 0.000 0.000]\n",
      " [0.067 0.026 -0.01 0.024 0.010 0.065 0.029 0.016 0.172 0.000]\n",
      " [0.070 0.039 0.005 0.018 -0.01 0.022 0.008 -0.00 0.014 0.200]]\n"
     ]
    }
   ],
   "source": [
    "print(Sigma)"
   ]
  },
  {
   "cell_type": "markdown",
   "metadata": {},
   "source": [
    "***************\n",
    "\n",
    "## Trump Factor\n",
    "\n",
    "* Regressions"
   ]
  },
  {
   "cell_type": "markdown",
   "metadata": {},
   "source": [
    "__用Y对X做回归，这里做了三种方法：__\n",
    "\n",
    "(Y和X可以改，这里随便选了几个股做X，SPY做Y，以后估计要换成几个经济数据做X，个股收益做Y）\n",
    "\n",
    "* PCR 主成分回归\n",
    "* Cholesky分解回归（不知道有没有这种搞法，也不知道是不是这个名字，看到PCR想起这个，试一试）\n",
    "* OLS 一般线性回归"
   ]
  },
  {
   "cell_type": "code",
   "execution_count": 30,
   "metadata": {
    "collapsed": false
   },
   "outputs": [],
   "source": [
    "X = M[set1].values-M[set1].mean().values\n",
    "\n",
    "Y = M[['SPY']].values-M[['SPY']].mean().values"
   ]
  },
  {
   "cell_type": "markdown",
   "metadata": {},
   "source": [
    "1. PCR：\n",
    "    \n",
    "    (1) PCA 分解$X$: $X^{T}X = V\\Lambda V^{T}$\n",
    "    \n",
    "    (2) 此处$U$是幺正矩阵，对$X$进行旋转: $W = XV$\n",
    "    \n",
    "    (3) 用Y对旋转后的$X$ 进行回归: $Y|W \\sim N(W \\gamma_{PCR},\\sigma_{PCR})$\n",
    "    \n",
    "    (4) 根据Normal Equation: $\\gamma_{PCR} = (W^T W)^{-1}W^T Y$\n",
    "    \n",
    "    (5) 将4代入3: $Y|W \\sim N(XV \\gamma_{PCR},\\sigma_{PCR}) \\rightarrow Y|X \\sim N(X(V \\gamma_{PCR}),\\sigma_{PCR})$\n",
    "    \n",
    "    $\\implies Y|X \\sim N(X\\beta_{PCR},\\sigma_{PCR}), \\\\ \\beta_{PCR} = (V \\gamma_{PCR})$"
   ]
  },
  {
   "cell_type": "code",
   "execution_count": 39,
   "metadata": {
    "collapsed": true
   },
   "outputs": [],
   "source": [
    "# PCA on X^T*X\n",
    "U,S,V = np.linalg.svd(np.dot(X.T,X))\n",
    "\n",
    "# Choose number of dimension to keep\n",
    "dimension = 5\n",
    "\n",
    "W = np.dot(X,V[:,0:dimension])\n",
    "\n",
    "gamma_pcr = np.dot(np.dot(np.linalg.inv(np.dot(W.T,W)),W.T),Y)\n",
    "beta_pcr = np.dot(V[:,0:dimension],gamma_pcr)"
   ]
  },
  {
   "cell_type": "markdown",
   "metadata": {},
   "source": [
    "------------------------------------------------------\n",
    "2. Cholesky：\n",
    "    \n",
    "    (1) Cholesky 分解$X$: $X^{T}X = \\Sigma \\Sigma^{T}$\n",
    "    \n",
    "    (2) 标准化$\\Sigma$使得每个行向量长度为1: $\\Sigma \\Sigma^{T} = R \\sigma R^{T}$\n",
    "    \n",
    "    (2) 此处$R$对$X$进行线性变换: $Q = XR$\n",
    "    \n",
    "    (3) 用Y对旋转后的$X$ 进行回归: $Y|Q \\sim N(Q \\gamma_{CHL},\\sigma_{CHL})$\n",
    "    \n",
    "    (4) 根据Normal Equation: $\\gamma_{CHL} = (Q^T Q)^{-1}Q^T Y$\n",
    "    \n",
    "    (5) 将4代入3: $Y|Q \\sim N(XR \\gamma_{CHL},\\sigma_{CHL}) \\rightarrow Y|X \\sim N(X(R \\gamma_{CHL}),\\sigma_{CHL})$\n",
    "    \n",
    "    $\\implies Y|X \\sim N(X\\beta_{CHL},\\sigma_{CHL}), \\\\ \\beta_{CHL} = (R \\gamma_{CHL})$"
   ]
  },
  {
   "cell_type": "code",
   "execution_count": 139,
   "metadata": {
    "collapsed": false
   },
   "outputs": [
    {
     "data": {
      "text/plain": [
       "array([0.187, 0.221, 0.271, 0.209, 0.185, 0.389, 0.266, 0.222, 0.202, 0.218])"
      ]
     },
     "execution_count": 139,
     "metadata": {},
     "output_type": "execute_result"
    }
   ],
   "source": [
    "sigma"
   ]
  },
  {
   "cell_type": "code",
   "execution_count": 138,
   "metadata": {
    "collapsed": false
   },
   "outputs": [],
   "source": [
    "k = np.argsort(sigma)[0:dimension].tolist()\n",
    "\n",
    "Q = np.dot(X,R[:,k])\n",
    "\n",
    "gamma_chl = np.dot(np.dot(np.linalg.inv(np.dot(Q.T,Q)),Q.T),Y)\n",
    "beta_chl = np.dot(R[:,k],gamma_chl)"
   ]
  },
  {
   "cell_type": "markdown",
   "metadata": {},
   "source": [
    "3. OLS:\n",
    "\n",
    "    (1) $Y|X \\sim N(X \\beta_{OLS},\\sigma_{OLS})$\n",
    "    \n",
    "    (2) 根据Normal Equation: $\\beta_{OLS} = (X^T X)^{-1}X^T Y$"
   ]
  },
  {
   "cell_type": "code",
   "execution_count": 64,
   "metadata": {
    "collapsed": false
   },
   "outputs": [],
   "source": [
    "beta_ols = np.dot(np.dot(np.linalg.inv(np.dot(X.T,X)),X.T),Y)"
   ]
  },
  {
   "cell_type": "markdown",
   "metadata": {},
   "source": [
    "计算样本内预测\n",
    "$\\hat{Y}_{\\bullet} = X\\beta_{\\bullet}$"
   ]
  },
  {
   "cell_type": "code",
   "execution_count": 140,
   "metadata": {
    "collapsed": false
   },
   "outputs": [],
   "source": [
    "Y_hat_pcr = np.dot(X,beta_pcr)\n",
    "Y_hat_chl = np.dot(X,beta_chl)\n",
    "Y_hat_ols = np.dot(X,beta_ols)"
   ]
  },
  {
   "cell_type": "code",
   "execution_count": 141,
   "metadata": {
    "collapsed": false
   },
   "outputs": [],
   "source": [
    "table = pd.DataFrame({'Y_hat_pcr':Y_hat_pcr.squeeze(),\n",
    "                      'Y_hat_chl':Y_hat_chl.squeeze(),\n",
    "                      'Y_hat_ols':Y_hat_ols.squeeze(),\n",
    "                      'Y':Y.squeeze()},index = range(Y.shape[0]))"
   ]
  },
  {
   "cell_type": "markdown",
   "metadata": {},
   "source": [
    "计算样本内误差"
   ]
  },
  {
   "cell_type": "code",
   "execution_count": 142,
   "metadata": {
    "collapsed": true
   },
   "outputs": [],
   "source": [
    "table['error_pcr'] = table['Y']-table['Y_hat_pcr']\n",
    "table['error_chl'] = table['Y']-table['Y_hat_chl']\n",
    "table['error_ols'] = table['Y']-table['Y_hat_ols']"
   ]
  },
  {
   "cell_type": "markdown",
   "metadata": {},
   "source": [
    "图图图图图图图图"
   ]
  },
  {
   "cell_type": "code",
   "execution_count": 143,
   "metadata": {
    "collapsed": false
   },
   "outputs": [
    {
     "data": {
      "text/plain": [
       "[<matplotlib.lines.Line2D at 0x7f42f77ec208>,\n",
       " <matplotlib.lines.Line2D at 0x7f42f77ec470>,\n",
       " <matplotlib.lines.Line2D at 0x7f42f77ec668>]"
      ]
     },
     "execution_count": 143,
     "metadata": {},
     "output_type": "execute_result"
    },
    {
     "data": {
      "image/png": "[encoded data removed]",
      "text/plain": [
       "<matplotlib.figure.Figure at 0x7f42f7970208>"
      ]
     },
     "metadata": {},
     "output_type": "display_data"
    }
   ],
   "source": [
    "plt.subplot(221)\n",
    "plt.plot(table[['Y','Y_hat_pcr']])\n",
    "plt.subplot(222)\n",
    "plt.plot(table[['Y','Y_hat_chl']])\n",
    "plt.subplot(223)\n",
    "plt.plot(table[['Y','Y_hat_ols']])\n",
    "plt.subplot(224)\n",
    "plt.plot(table[['error_pcr','error_chl','error_ols']])"
   ]
  },
  {
   "cell_type": "code",
   "execution_count": 144,
   "metadata": {
    "collapsed": false
   },
   "outputs": [
    {
     "data": {
      "text/html": [
       "<div>\n",
       "<table border=\"1\" class=\"dataframe\">\n",
       "  <thead>\n",
       "    <tr style=\"text-align: right;\">\n",
       "      <th></th>\n",
       "      <th>Y</th>\n",
       "      <th>Y_hat_chl</th>\n",
       "      <th>Y_hat_ols</th>\n",
       "      <th>Y_hat_pcr</th>\n",
       "      <th>error_pcr</th>\n",
       "      <th>error_chl</th>\n",
       "      <th>error_ols</th>\n",
       "    </tr>\n",
       "  </thead>\n",
       "  <tbody>\n",
       "    <tr>\n",
       "      <th>0</th>\n",
       "      <td>-0.011</td>\n",
       "      <td>-0.005</td>\n",
       "      <td>-0.005</td>\n",
       "      <td>-0.005</td>\n",
       "      <td>-0.005</td>\n",
       "      <td>-0.005</td>\n",
       "      <td>-0.005</td>\n",
       "    </tr>\n",
       "    <tr>\n",
       "      <th>1</th>\n",
       "      <td>-0.015</td>\n",
       "      <td>-0.012</td>\n",
       "      <td>-0.014</td>\n",
       "      <td>-0.011</td>\n",
       "      <td>-0.003</td>\n",
       "      <td>-0.003</td>\n",
       "      <td>-0.001</td>\n",
       "    </tr>\n",
       "    <tr>\n",
       "      <th>2</th>\n",
       "      <td>0.019</td>\n",
       "      <td>0.010</td>\n",
       "      <td>0.013</td>\n",
       "      <td>0.009</td>\n",
       "      <td>0.010</td>\n",
       "      <td>0.009</td>\n",
       "      <td>0.006</td>\n",
       "    </tr>\n",
       "    <tr>\n",
       "      <th>3</th>\n",
       "      <td>-0.006</td>\n",
       "      <td>-0.004</td>\n",
       "      <td>-0.004</td>\n",
       "      <td>-0.003</td>\n",
       "      <td>-0.003</td>\n",
       "      <td>-0.003</td>\n",
       "      <td>-0.003</td>\n",
       "    </tr>\n",
       "    <tr>\n",
       "      <th>4</th>\n",
       "      <td>-0.007</td>\n",
       "      <td>-0.002</td>\n",
       "      <td>-0.003</td>\n",
       "      <td>-0.002</td>\n",
       "      <td>-0.006</td>\n",
       "      <td>-0.005</td>\n",
       "      <td>-0.004</td>\n",
       "    </tr>\n",
       "  </tbody>\n",
       "</table>\n",
       "</div>"
      ],
      "text/plain": [
       "                     Y            Y_hat_chl            Y_hat_ols  \\\n",
       "0               -0.011               -0.005               -0.005   \n",
       "1               -0.015               -0.012               -0.014   \n",
       "2                0.019                0.010                0.013   \n",
       "3               -0.006               -0.004               -0.004   \n",
       "4               -0.007               -0.002               -0.003   \n",
       "\n",
       "             Y_hat_pcr            error_pcr            error_chl  \\\n",
       "0               -0.005               -0.005               -0.005   \n",
       "1               -0.011               -0.003               -0.003   \n",
       "2                0.009                0.010                0.009   \n",
       "3               -0.003               -0.003               -0.003   \n",
       "4               -0.002               -0.006               -0.005   \n",
       "\n",
       "             error_ols  \n",
       "0               -0.005  \n",
       "1               -0.001  \n",
       "2                0.006  \n",
       "3               -0.003  \n",
       "4               -0.004  "
      ]
     },
     "execution_count": 144,
     "metadata": {},
     "output_type": "execute_result"
    }
   ],
   "source": [
    "table.head()"
   ]
  },
  {
   "cell_type": "code",
   "execution_count": 145,
   "metadata": {
    "collapsed": false
   },
   "outputs": [
    {
     "data": {
      "text/html": [
       "<div>\n",
       "<table border=\"1\" class=\"dataframe\">\n",
       "  <thead>\n",
       "    <tr style=\"text-align: right;\">\n",
       "      <th></th>\n",
       "      <th>beta_chl</th>\n",
       "      <th>beta_ols</th>\n",
       "      <th>beta_pcr</th>\n",
       "    </tr>\n",
       "  </thead>\n",
       "  <tbody>\n",
       "    <tr>\n",
       "      <th>0</th>\n",
       "      <td>0.075</td>\n",
       "      <td>0.036</td>\n",
       "      <td>-0.200</td>\n",
       "    </tr>\n",
       "    <tr>\n",
       "      <th>1</th>\n",
       "      <td>0.035</td>\n",
       "      <td>0.073</td>\n",
       "      <td>0.167</td>\n",
       "    </tr>\n",
       "    <tr>\n",
       "      <th>2</th>\n",
       "      <td>0.045</td>\n",
       "      <td>0.034</td>\n",
       "      <td>0.060</td>\n",
       "    </tr>\n",
       "    <tr>\n",
       "      <th>3</th>\n",
       "      <td>0.144</td>\n",
       "      <td>0.115</td>\n",
       "      <td>0.111</td>\n",
       "    </tr>\n",
       "    <tr>\n",
       "      <th>4</th>\n",
       "      <td>0.200</td>\n",
       "      <td>0.143</td>\n",
       "      <td>0.097</td>\n",
       "    </tr>\n",
       "    <tr>\n",
       "      <th>5</th>\n",
       "      <td>0.047</td>\n",
       "      <td>0.010</td>\n",
       "      <td>0.061</td>\n",
       "    </tr>\n",
       "    <tr>\n",
       "      <th>6</th>\n",
       "      <td>0.038</td>\n",
       "      <td>0.043</td>\n",
       "      <td>0.051</td>\n",
       "    </tr>\n",
       "    <tr>\n",
       "      <th>7</th>\n",
       "      <td>0.098</td>\n",
       "      <td>0.228</td>\n",
       "      <td>0.205</td>\n",
       "    </tr>\n",
       "    <tr>\n",
       "      <th>8</th>\n",
       "      <td>0.066</td>\n",
       "      <td>0.075</td>\n",
       "      <td>0.066</td>\n",
       "    </tr>\n",
       "    <tr>\n",
       "      <th>9</th>\n",
       "      <td>0.062</td>\n",
       "      <td>0.065</td>\n",
       "      <td>0.087</td>\n",
       "    </tr>\n",
       "  </tbody>\n",
       "</table>\n",
       "</div>"
      ],
      "text/plain": [
       "              beta_chl             beta_ols             beta_pcr\n",
       "0                0.075                0.036               -0.200\n",
       "1                0.035                0.073                0.167\n",
       "2                0.045                0.034                0.060\n",
       "3                0.144                0.115                0.111\n",
       "4                0.200                0.143                0.097\n",
       "5                0.047                0.010                0.061\n",
       "6                0.038                0.043                0.051\n",
       "7                0.098                0.228                0.205\n",
       "8                0.066                0.075                0.066\n",
       "9                0.062                0.065                0.087"
      ]
     },
     "execution_count": 145,
     "metadata": {},
     "output_type": "execute_result"
    }
   ],
   "source": [
    "betas = pd.DataFrame({'beta_pcr':beta_pcr.squeeze(),'beta_chl':beta_chl.squeeze(),'beta_ols':beta_ols.squeeze()},index = range(beta_pcr.shape[0]))\n",
    "(betas)"
   ]
  },
  {
   "cell_type": "markdown",
   "metadata": {},
   "source": [
    "Row vectors in R is on unit sphere:"
   ]
  },
  {
   "cell_type": "code",
   "execution_count": 75,
   "metadata": {
    "collapsed": false
   },
   "outputs": [
    {
     "name": "stdout",
     "output_type": "stream",
     "text": [
      "[1.000 1.000 1.000 1.000 1.000 1.000 1.000 1.000 1.000 1.000]\n"
     ]
    }
   ],
   "source": [
    "print(np.sum(R**2,axis = 1))"
   ]
  },
  {
   "cell_type": "markdown",
   "metadata": {},
   "source": [
    "Varify V is a unitary matrix:\n",
    "$$V V^T = I$$\n",
    "$$V^T = V^H$$"
   ]
  },
  {
   "cell_type": "code",
   "execution_count": 76,
   "metadata": {
    "collapsed": false
   },
   "outputs": [
    {
     "name": "stdout",
     "output_type": "stream",
     "text": [
      "[[1.000 -0.00 0.000 0.000 0.000 0.000 0.000 0.000 -0.00 -0.00]\n",
      " [-0.00 1.000 0.000 0.000 0.000 0.000 0.000 0.000 -0.00 0.000]\n",
      " [0.000 0.000 1.000 -0.00 0.000 0.000 -0.00 -0.00 0.000 -0.00]\n",
      " [0.000 0.000 -0.00 1.000 0.000 -0.00 -0.00 0.000 0.000 -0.00]\n",
      " [0.000 0.000 0.000 0.000 1.000 0.000 -0.00 0.000 -0.00 0.000]\n",
      " [0.000 0.000 0.000 -0.00 0.000 1.000 0.000 0.000 -0.00 0.000]\n",
      " [0.000 0.000 -0.00 -0.00 -0.00 0.000 1.000 -0.00 0.000 -0.00]\n",
      " [0.000 0.000 -0.00 0.000 0.000 0.000 -0.00 1.000 0.000 -0.00]\n",
      " [-0.00 -0.00 0.000 0.000 -0.00 -0.00 0.000 0.000 1.000 -0.00]\n",
      " [-0.00 0.000 -0.00 -0.00 0.000 0.000 -0.00 -0.00 -0.00 1.000]]\n"
     ]
    }
   ],
   "source": [
    "print(np.dot(V,V.T))"
   ]
  },
  {
   "cell_type": "code",
   "execution_count": 91,
   "metadata": {
    "collapsed": false
   },
   "outputs": [
    {
     "name": "stdout",
     "output_type": "stream",
     "text": [
      "[[1.000 -0.00 -0.00 0.000 -0.00 -0.00 0.000 0.000 0.000 0.000]\n",
      " [0.000 1.000 -0.00 -0.00 -0.00 -0.00 -0.00 -0.00 0.000 0.000]\n",
      " [-0.00 0.000 1.000 0.000 -0.00 -0.00 -0.00 0.000 0.000 -0.00]\n",
      " [0.000 -0.00 0.000 1.000 0.000 -0.00 0.000 -0.00 -0.00 0.000]\n",
      " [0.000 0.000 0.000 0.000 1.000 -0.00 0.000 0.000 -0.00 -0.00]\n",
      " [-0.00 -0.00 -0.00 0.000 -0.00 1.000 0.000 0.000 0.000 0.000]\n",
      " [-0.00 -0.00 0.000 0.000 0.000 -0.00 1.000 0.000 0.000 0.000]\n",
      " [-0.00 -0.00 -0.00 0.000 0.000 0.000 0.000 1.000 0.000 -0.00]\n",
      " [0.000 -0.00 0.000 -0.00 0.000 -0.00 0.000 0.000 1.000 0.000]\n",
      " [0.000 -0.00 -0.00 -0.00 -0.00 0.000 0.000 0.000 0.000 1.000]]\n"
     ]
    }
   ],
   "source": [
    "print(np.dot(V,np.linalg.inv(V)))"
   ]
  },
  {
   "cell_type": "markdown",
   "metadata": {},
   "source": [
    "Define a function to compute $R^2$"
   ]
  },
  {
   "cell_type": "code",
   "execution_count": 83,
   "metadata": {
    "collapsed": true
   },
   "outputs": [],
   "source": [
    "def score(y,yh):\n",
    "    y = np.array(y).squeeze()\n",
    "    yh = np.array(yh).squeeze()\n",
    "    error = y-yh\n",
    "    result = 1-(np.cov(error)/np.cov(y))\n",
    "    return(result)"
   ]
  },
  {
   "cell_type": "code",
   "execution_count": 148,
   "metadata": {
    "collapsed": false,
    "scrolled": true
   },
   "outputs": [
    {
     "name": "stdout",
     "output_type": "stream",
     "text": [
      "R square for PCR is:  0.743994414699\n",
      "R square for CHL is:  0.807494276256\n",
      "R square for OLS is:  0.857704276994\n"
     ]
    }
   ],
   "source": [
    "print('R square for PCR is: ',score(Y,Y_hat_pcr))\n",
    "print('R square for CHL is: ',score(Y,Y_hat_chl))\n",
    "print('R square for OLS is: ',score(Y,Y_hat_ols))"
   ]
  },
  {
   "cell_type": "code",
   "execution_count": 152,
   "metadata": {
    "collapsed": false
   },
   "outputs": [
    {
     "name": "stdout",
     "output_type": "stream",
     "text": [
      "[[-0.27 -0.27 -0.32 -0.31 -0.22 -0.57 -0.29 -0.28 -0.26 -0.21]\n",
      " [0.227 0.208 0.444 0.223 0.058 -0.76 0.254 0.028 -0.05 0.096]\n",
      " [0.072 0.308 -0.13 0.171 0.245 -0.13 -0.77 0.424 -0.04 0.094]\n",
      " [-0.00 -0.19 0.225 0.025 0.242 0.036 0.053 0.338 -0.14 -0.85]\n",
      " [0.118 -0.14 0.681 -0.06 -0.21 0.238 -0.42 -0.31 -0.35 0.069]\n",
      " [-0.10 -0.58 0.015 -0.04 0.245 -0.03 0.146 0.437 -0.41 0.458]\n",
      " [0.135 -0.57 0.136 0.079 -0.15 -0.14 -0.23 0.093 0.731 0.018]\n",
      " [0.330 -0.27 -0.27 0.551 0.411 0.023 -0.05 -0.50 -0.14 -0.06]\n",
      " [-0.25 0.054 0.217 -0.44 0.731 -0.04 -0.05 -0.28 0.256 0.082]\n",
      " [-0.81 0.009 0.163 0.556 -0.03 0.006 -0.02 -0.06 0.060 0.015]]\n"
     ]
    }
   ],
   "source": [
    "print(V)"
   ]
  },
  {
   "cell_type": "code",
   "execution_count": 162,
   "metadata": {
    "collapsed": false
   },
   "outputs": [
    {
     "data": {
      "text/plain": [
       "array([[0.009, 0.009, 0.015, ..., 0.001, 0.004, 0.010],\n",
       "       [-0.01, -0.01, -0.03, ..., -0.02, 0.001, 0.016],\n",
       "       [-0.03, -0.03, -0.02, ..., -0.05, -0.03, 0.019],\n",
       "       ..., \n",
       "       [0.002, 0.001, 0.005, ..., -0.00, 0.002, 0.008],\n",
       "       [0.001, 0.007, -0.01, ..., 0.004, 0.006, 0.007],\n",
       "       [-0.00, -0.00, -0.00, ..., -0.00, 0.004, 0.002]])"
      ]
     },
     "execution_count": 162,
     "metadata": {},
     "output_type": "execute_result"
    }
   ],
   "source": [
    "np.dot(W,V[0:dimension,:])"
   ]
  },
  {
   "cell_type": "code",
   "execution_count": 168,
   "metadata": {
    "collapsed": false
   },
   "outputs": [
    {
     "data": {
      "text/plain": [
       "[<matplotlib.lines.Line2D at 0x7f42f7583da0>,\n",
       " <matplotlib.lines.Line2D at 0x7f42f7583f60>,\n",
       " <matplotlib.lines.Line2D at 0x7f42f7588278>,\n",
       " <matplotlib.lines.Line2D at 0x7f42f7588470>,\n",
       " <matplotlib.lines.Line2D at 0x7f42f7588668>,\n",
       " <matplotlib.lines.Line2D at 0x7f42f7588860>,\n",
       " <matplotlib.lines.Line2D at 0x7f42f7588a58>,\n",
       " <matplotlib.lines.Line2D at 0x7f42f7588c50>,\n",
       " <matplotlib.lines.Line2D at 0x7f42f7588e48>,\n",
       " <matplotlib.lines.Line2D at 0x7f42f7589080>]"
      ]
     },
     "execution_count": 168,
     "metadata": {},
     "output_type": "execute_result"
    },
    {
     "data": {
      "image/png": "[encoded data removed]",
      "text/plain": [
       "<matplotlib.figure.Figure at 0x7f42f75e4cf8>"
      ]
     },
     "metadata": {},
     "output_type": "display_data"
    }
   ],
   "source": [
    "plt.plot(np.dot(W,V[0:dimension,:]))"
   ]
  },
  {
   "cell_type": "code",
   "execution_count": 164,
   "metadata": {
    "collapsed": false
   },
   "outputs": [
    {
     "data": {
      "text/plain": [
       "[<matplotlib.lines.Line2D at 0x7f42f768a080>,\n",
       " <matplotlib.lines.Line2D at 0x7f42f768a320>,\n",
       " <matplotlib.lines.Line2D at 0x7f42f768a518>,\n",
       " <matplotlib.lines.Line2D at 0x7f42f768a710>,\n",
       " <matplotlib.lines.Line2D at 0x7f42f768a908>,\n",
       " <matplotlib.lines.Line2D at 0x7f42f768ab00>,\n",
       " <matplotlib.lines.Line2D at 0x7f42f768acf8>,\n",
       " <matplotlib.lines.Line2D at 0x7f42f768aef0>,\n",
       " <matplotlib.lines.Line2D at 0x7f42f768e128>,\n",
       " <matplotlib.lines.Line2D at 0x7f42f768e320>]"
      ]
     },
     "execution_count": 164,
     "metadata": {},
     "output_type": "execute_result"
    },
    {
     "data": {
      "image/png": "[encoded data removed]",
      "text/plain": [
       "<matplotlib.figure.Figure at 0x7f42f77b1588>"
      ]
     },
     "metadata": {},
     "output_type": "display_data"
    }
   ],
   "source": [
    "plt.plot(X)"
   ]
  }
 ],
 "metadata": {
  "anaconda-cloud": {},
  "kernelspec": {
   "display_name": "Python [conda root]",
   "language": "python",
   "name": "conda-root-py"
  },
  "language_info": {
   "codemirror_mode": {
    "name": "ipython",
    "version": 3
   },
   "file_extension": ".py",
   "mimetype": "text/x-python",
   "name": "python",
   "nbconvert_exporter": "python",
   "pygments_lexer": "ipython3",
   "version": "3.5.2"
  }
 },
 "nbformat": 4,
 "nbformat_minor": 1
}
