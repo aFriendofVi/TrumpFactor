{
 "cells": [
  {
   "cell_type": "code",
   "execution_count": 1,
   "metadata": {
    "collapsed": true
   },
   "outputs": [],
   "source": [
    "import numpy as np #Handle math objects like vectors and matrixs\n",
    "import scipy as sp\n",
    "from scipy.stats import norm # Normal cdf is used\n",
    "import pandas as pd #Contains data from yahoo\n",
    "import matplotlib.pyplot as plt # Seeing is believing! --Thrall\n",
    "from datetime import datetime # Very usefull when you need to operate on date\n",
    "from datetime import timedelta # Very usefull when you need to operate on date\n",
    "from yahoo_finance import Share # API from Yahoo to fetch data\n",
    "%matplotlib inline\n",
    "float_formatter = lambda x: \"%.3f\" % x if x >=0 else \"%.2f\" % x\n",
    "np.set_printoptions(formatter={'float_kind':float_formatter})\n",
    "pd.options.display.float_format = '{:20,.3f}'.format"
   ]
  },
  {
   "cell_type": "code",
   "execution_count": 2,
   "metadata": {
    "collapsed": true
   },
   "outputs": [],
   "source": [
    "universe = ['SPY','GOOG','AAPL','AMZN','MSFT','IBM','M','MNST','PNC','ROST','COO']"
   ]
  },
  {
   "cell_type": "code",
   "execution_count": 3,
   "metadata": {
    "collapsed": true
   },
   "outputs": [],
   "source": [
    "n = len(universe)\n",
    "i = datetime.now()\n",
    "j = i - timedelta(days=252*2)\n",
    "currentDate = \"%s-%s-%s\"%(i.year,i.month,i.day-1)\n",
    "startDate = \"%s-%s-%s\"%(j.year,j.month,j.day)"
   ]
  },
  {
   "cell_type": "markdown",
   "metadata": {},
   "source": [
    "* M is the dataframe that stores log returns of all the stocks.`"
   ]
  },
  {
   "cell_type": "code",
   "execution_count": 4,
   "metadata": {
    "collapsed": true
   },
   "outputs": [],
   "source": [
    "count = 0\n",
    "for symbol in universe:\n",
    "    equity = Share(symbol)\n",
    "    df = pd.DataFrame(equity.get_historical(startDate,currentDate))\n",
    "    df.index = df.Date\n",
    "    df.drop('Date',1,inplace = True)\n",
    "    df.sort_index(inplace = True) # ,ascending = False\n",
    "    df['Adj_Close'] = pd.to_numeric(df['Adj_Close'])\n",
    "    label = symbol#+'_logReturn'\n",
    "    df[label] = np.log(1+df.Adj_Close.diff(1)/df.Adj_Close)\n",
    "#     df.fillna(0,inplace = True)\n",
    "    df.dropna(inplace = True)\n",
    "    \n",
    "    if count==0:\n",
    "        M = df[[label]].copy()\n",
    "    else:\n",
    "        M = M.join(df[[label]])\n",
    "    \n",
    "    count += 1\n"
   ]
  },
  {
   "cell_type": "markdown",
   "metadata": {},
   "source": [
    "* Solve the covariance matrix of the stocks ($C=cov(diag[\\sigma] B)/t$)"
   ]
  },
  {
   "cell_type": "code",
   "execution_count": 7,
   "metadata": {
    "collapsed": false,
    "scrolled": true
   },
   "outputs": [
    {
     "data": {
      "text/plain": [
       "<matplotlib.colorbar.Colorbar at 0x7ff82fee24e0>"
      ]
     },
     "execution_count": 7,
     "metadata": {},
     "output_type": "execute_result"
    },
    {
     "data": {
      "image/png": "[encoded data removed]",
      "text/plain": [
       "<matplotlib.figure.Figure at 0x7ff830631898>"
      ]
     },
     "metadata": {},
     "output_type": "display_data"
    }
   ],
   "source": [
    "dt = 1/252\n",
    "set1 = [x for x in universe if x != 'SPY']\n",
    "covMat = np.cov(M[set1].values.T)\n",
    "# covMat = np.cov(M.values.T)\n",
    "C = covMat/dt\n",
    "# print(C)\n",
    "plt.imshow(C)\n",
    "plt.colorbar() "
   ]
  },
  {
   "cell_type": "markdown",
   "metadata": {},
   "source": [
    "* Perform Cholesky on C to get $\\Sigma$\n",
    "\n",
    "__$\\Sigma = CholeskyDecompose(C)$__"
   ]
  },
  {
   "cell_type": "code",
   "execution_count": 8,
   "metadata": {
    "collapsed": true
   },
   "outputs": [],
   "source": [
    "Sigma = np.linalg.cholesky(C)\n",
    "sigma = np.sum(Sigma**2,axis = 1)**(0.5)\n",
    "R = np.dot(np.linalg.inv(np.diag(sigma)),Sigma)"
   ]
  },
  {
   "cell_type": "markdown",
   "metadata": {},
   "source": [
    "* Another way to decompose the covariance matrix is PCA(SVD)\n",
    "\n",
    "$$C = U \\Lambda U^T$$\n",
    "\n",
    "We will now show that even though $U \\Lambda U^T =  \\Sigma \\Sigma^T$, $U \\Lambda^{\\frac{1}{2}} \\neq \\Sigma$"
   ]
  },
  {
   "cell_type": "code",
   "execution_count": 9,
   "metadata": {
    "collapsed": true
   },
   "outputs": [],
   "source": [
    "u,s,v = np.linalg.svd(C)\n",
    "ul = np.dot(u,np.diag(s**0.5))"
   ]
  },
  {
   "cell_type": "markdown",
   "metadata": {},
   "source": [
    "* In the cell above we can see $U \\Lambda^{\\frac{1}{2}} (U\\Lambda^{\\frac{1}{2}})^T= C$.\n",
    "\n",
    "* Next we compare $U \\Lambda^{\\frac{1}{2}}$ and $\\Sigma$ :"
   ]
  },
  {
   "cell_type": "code",
   "execution_count": 10,
   "metadata": {
    "collapsed": false
   },
   "outputs": [
    {
     "name": "stdout",
     "output_type": "stream",
     "text": [
      "[[-0.12 0.085 0.017 -0.00 0.023 -0.02 0.023 0.051 -0.03 -0.08]\n",
      " [-0.12 0.077 0.075 -0.04 -0.03 -0.10 -0.09 -0.04 0.007 0.001]\n",
      " [-0.15 0.166 -0.03 0.047 0.132 0.003 0.022 -0.04 0.030 0.017]\n",
      " [-0.14 0.083 0.041 0.005 -0.01 -0.01 0.012 0.086 -0.06 0.058]\n",
      " [-0.10 0.022 0.061 0.049 -0.04 0.040 -0.03 0.064 0.100 -0.00]\n",
      " [-0.25 -0.29 -0.03 0.008 0.046 -0.00 -0.02 0.003 -0.01 0.000]\n",
      " [-0.13 0.094 -0.19 0.012 -0.08 0.024 -0.04 -0.01 -0.01 -0.00]\n",
      " [-0.13 0.011 0.106 0.069 -0.06 0.075 0.013 -0.08 -0.04 -0.01]\n",
      " [-0.12 -0.02 -0.01 -0.03 -0.07 -0.07 0.121 -0.02 0.035 0.007]\n",
      " [-0.09 0.035 0.021 -0.17 0.014 0.079 0.003 -0.01 0.011 0.002]]\n",
      "[[0.187 0.000 0.000 0.000 0.000 0.000 0.000 0.000 0.000 0.000]\n",
      " [0.104 0.195 0.000 0.000 0.000 0.000 0.000 0.000 0.000 0.000]\n",
      " [0.164 0.028 0.214 0.000 0.000 0.000 0.000 0.000 0.000 0.000]\n",
      " [0.145 0.038 0.015 0.144 0.000 0.000 0.000 0.000 0.000 0.000]\n",
      " [0.068 0.032 0.003 0.042 0.163 0.000 0.000 0.000 0.000 0.000]\n",
      " [0.039 0.014 -0.05 0.037 0.064 0.376 0.000 0.000 0.000 0.000]\n",
      " [0.095 0.011 0.066 0.023 -0.00 0.020 0.237 0.000 0.000 0.000]\n",
      " [0.076 0.047 0.007 0.045 0.063 0.038 -0.02 0.183 0.000 0.000]\n",
      " [0.067 0.026 -0.01 0.023 0.011 0.066 0.030 0.016 0.171 0.000]\n",
      " [0.070 0.039 0.005 0.017 -0.01 0.023 0.008 -0.00 0.013 0.199]]\n"
     ]
    }
   ],
   "source": [
    "print(ul)\n",
    "print(Sigma)"
   ]
  },
  {
   "cell_type": "markdown",
   "metadata": {},
   "source": [
    "***************\n",
    "\n",
    "## Trump Factor"
   ]
  },
  {
   "cell_type": "markdown",
   "metadata": {},
   "source": [
    "* Center X and Y"
   ]
  },
  {
   "cell_type": "code",
   "execution_count": 12,
   "metadata": {
    "collapsed": true
   },
   "outputs": [],
   "source": [
    "X = M[set1].values-M[set1].mean().values"
   ]
  },
  {
   "cell_type": "markdown",
   "metadata": {},
   "source": [
    "1. Principal Component Factors：\n",
    "    \n",
    "    (1) PCA 分解$X^T X$: $X^{T}X = G S G^{T}$\n",
    "    \n",
    "    (2) 此处$G$是幺正矩阵，对$X$进行旋转得到: $Y = XG$\n",
    "        \n",
    "    如果只取G的前K列$G_k$: $Y_k = XG_k$ 得到前K个factor $F=Y_k$\n",
    "    \n",
    "    (3) 恢复$X$: $\\hat{X} = FG_k^T$"
   ]
  },
  {
   "cell_type": "code",
   "execution_count": 49,
   "metadata": {
    "collapsed": false
   },
   "outputs": [],
   "source": [
    "# PCA on X^T*X\n",
    "U,S,G = np.linalg.svd(np.dot(X.T,X))\n",
    "\n",
    "# Choose number of dimension to keep\n",
    "dimension = 2\n",
    "\n",
    "F = np.dot(X,G[:,0:dimension])\n",
    "\n",
    "X_hat = np.dot(F,G[:,0:dimension].T)"
   ]
  },
  {
   "cell_type": "markdown",
   "metadata": {},
   "source": [
    "* Loading of n stocks to 5 factors"
   ]
  },
  {
   "cell_type": "code",
   "execution_count": 50,
   "metadata": {
    "collapsed": false
   },
   "outputs": [
    {
     "name": "stdout",
     "output_type": "stream",
     "text": [
      "[[-0.28 -0.27]\n",
      " [0.226 0.205]\n",
      " [0.070 0.303]\n",
      " [-0.00 -0.21]\n",
      " [0.118 -0.14]\n",
      " [-0.10 -0.60]\n",
      " [0.138 -0.55]\n",
      " [0.328 -0.28]\n",
      " [-0.25 0.054]\n",
      " [-0.81 0.006]]\n"
     ]
    }
   ],
   "source": [
    "print(G[:,0:dimension])"
   ]
  },
  {
   "cell_type": "markdown",
   "metadata": {},
   "source": [
    "* Plot the eigen vectors in a bar chart"
   ]
  },
  {
   "cell_type": "code",
   "execution_count": 51,
   "metadata": {
    "collapsed": false
   },
   "outputs": [
    {
     "data": {
      "text/plain": [
       "<Container object of 10 artists>"
      ]
     },
     "execution_count": 51,
     "metadata": {},
     "output_type": "execute_result"
    },
    {
     "data": {
      "image/png": "[encoded data removed]",
      "text/plain": [
       "<matplotlib.figure.Figure at 0x7ff82ca465f8>"
      ]
     },
     "metadata": {},
     "output_type": "display_data"
    }
   ],
   "source": [
    "eig_label = ['F'+str(i+1) for i in range(n-1)]\n",
    "plt.bar(left = range(n-1),height = S,tick_label = eig_label)"
   ]
  },
  {
   "cell_type": "markdown",
   "metadata": {},
   "source": [
    "* Plot the loading of n stocks to each factor"
   ]
  },
  {
   "cell_type": "code",
   "execution_count": 52,
   "metadata": {
    "collapsed": false
   },
   "outputs": [
    {
     "data": {
      "image/png": "[encoded data removed]",
      "text/plain": [
       "<matplotlib.figure.Figure at 0x7ff82cb1f6a0>"
      ]
     },
     "metadata": {},
     "output_type": "display_data"
    }
   ],
   "source": [
    "fig = plt.figure(figsize=(16, 8)) \n",
    "\n",
    "for j in range(dimension):\n",
    "    plt.subplot(231+j)\n",
    "    plt.xticks(rotation=70)\n",
    "    plt.bar(left = range(n-1),height = G[:,j],tick_label = set1)"
   ]
  },
  {
   "cell_type": "markdown",
   "metadata": {},
   "source": [
    "Weird, What happened to Google...?"
   ]
  }
 ],
 "metadata": {
  "anaconda-cloud": {},
  "kernelspec": {
   "display_name": "Python [conda root]",
   "language": "python",
   "name": "conda-root-py"
  },
  "language_info": {
   "codemirror_mode": {
    "name": "ipython",
    "version": 3
   },
   "file_extension": ".py",
   "mimetype": "text/x-python",
   "name": "python",
   "nbconvert_exporter": "python",
   "pygments_lexer": "ipython3",
   "version": "3.5.2"
  }
 },
 "nbformat": 4,
 "nbformat_minor": 1
}
